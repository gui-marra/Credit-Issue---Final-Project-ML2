{
 "cells": [
  {
   "cell_type": "markdown",
   "metadata": {},
   "source": [
    "## Introduction\n",
    "\n",
    "This project is a problem of supervised learning classification. The ultimate goal is to predict whether a client will have problems with the credit they have made with a third party, this will be modeled by a categorical variable (0 or 1). The dataset presents several data for each line representing a consumer (categorical, continuous and dates data). The dataset is highly unbalanced.\n",
    "\n",
    "We have tried several classification algorithms and methods to avoid overfitting. We perform the data processing part to better serve the above algorithms."
   ]
  },
  {
   "cell_type": "code",
   "execution_count": 1,
   "metadata": {},
   "outputs": [
    {
     "data": {
      "text/html": [
       "<div>\n",
       "<style scoped>\n",
       "    .dataframe tbody tr th:only-of-type {\n",
       "        vertical-align: middle;\n",
       "    }\n",
       "\n",
       "    .dataframe tbody tr th {\n",
       "        vertical-align: top;\n",
       "    }\n",
       "\n",
       "    .dataframe thead th {\n",
       "        text-align: right;\n",
       "    }\n",
       "</style>\n",
       "<table border=\"1\" class=\"dataframe\">\n",
       "  <thead>\n",
       "    <tr style=\"text-align: right;\">\n",
       "      <th></th>\n",
       "      <th>Id_Customer</th>\n",
       "      <th>Y</th>\n",
       "      <th>Customer_Type</th>\n",
       "      <th>BirthDate</th>\n",
       "      <th>Customer_Open_Date</th>\n",
       "      <th>P_Client</th>\n",
       "      <th>Educational_Level</th>\n",
       "      <th>Marital_Status</th>\n",
       "      <th>Number_Of_Dependant</th>\n",
       "      <th>Years_At_Residence</th>\n",
       "      <th>...</th>\n",
       "      <th>Prod_Sub_Category</th>\n",
       "      <th>Prod_Decision_Date</th>\n",
       "      <th>Source</th>\n",
       "      <th>Type_Of_Residence</th>\n",
       "      <th>Nb_Of_Products</th>\n",
       "      <th>Prod_Category</th>\n",
       "      <th>Day(Prod_Closed_Date)</th>\n",
       "      <th>Month(Prod_Closed_Date)</th>\n",
       "      <th>Year(Prod_Closed_Date)</th>\n",
       "      <th>Net_Annual_Income</th>\n",
       "    </tr>\n",
       "  </thead>\n",
       "  <tbody>\n",
       "    <tr>\n",
       "      <th>0</th>\n",
       "      <td>7440</td>\n",
       "      <td>0</td>\n",
       "      <td>Non Existing Client</td>\n",
       "      <td>07/08/1977</td>\n",
       "      <td>13/02/2012</td>\n",
       "      <td>NP_Client</td>\n",
       "      <td>University</td>\n",
       "      <td>Married</td>\n",
       "      <td>3.0</td>\n",
       "      <td>1</td>\n",
       "      <td>...</td>\n",
       "      <td>C</td>\n",
       "      <td>14/02/2012</td>\n",
       "      <td>Sales</td>\n",
       "      <td>Owned</td>\n",
       "      <td>1</td>\n",
       "      <td>B</td>\n",
       "      <td>0</td>\n",
       "      <td>0</td>\n",
       "      <td>0</td>\n",
       "      <td>36</td>\n",
       "    </tr>\n",
       "    <tr>\n",
       "      <th>1</th>\n",
       "      <td>573</td>\n",
       "      <td>0</td>\n",
       "      <td>Existing Client</td>\n",
       "      <td>13/06/1974</td>\n",
       "      <td>04/02/2009</td>\n",
       "      <td>P_Client</td>\n",
       "      <td>University</td>\n",
       "      <td>Married</td>\n",
       "      <td>0.0</td>\n",
       "      <td>12</td>\n",
       "      <td>...</td>\n",
       "      <td>C</td>\n",
       "      <td>30/06/2011</td>\n",
       "      <td>Sales</td>\n",
       "      <td>Parents</td>\n",
       "      <td>1</td>\n",
       "      <td>G</td>\n",
       "      <td>0</td>\n",
       "      <td>0</td>\n",
       "      <td>0</td>\n",
       "      <td>18</td>\n",
       "    </tr>\n",
       "    <tr>\n",
       "      <th>2</th>\n",
       "      <td>9194</td>\n",
       "      <td>0</td>\n",
       "      <td>Non Existing Client</td>\n",
       "      <td>07/11/1973</td>\n",
       "      <td>03/04/2012</td>\n",
       "      <td>NP_Client</td>\n",
       "      <td>University</td>\n",
       "      <td>Married</td>\n",
       "      <td>2.0</td>\n",
       "      <td>10</td>\n",
       "      <td>...</td>\n",
       "      <td>C</td>\n",
       "      <td>04/04/2012</td>\n",
       "      <td>Sales</td>\n",
       "      <td>Owned</td>\n",
       "      <td>1</td>\n",
       "      <td>B</td>\n",
       "      <td>0</td>\n",
       "      <td>0</td>\n",
       "      <td>0</td>\n",
       "      <td>36</td>\n",
       "    </tr>\n",
       "    <tr>\n",
       "      <th>3</th>\n",
       "      <td>3016</td>\n",
       "      <td>1</td>\n",
       "      <td>Existing Client</td>\n",
       "      <td>08/07/1982</td>\n",
       "      <td>25/08/2011</td>\n",
       "      <td>NP_Client</td>\n",
       "      <td>University</td>\n",
       "      <td>Married</td>\n",
       "      <td>3.0</td>\n",
       "      <td>3</td>\n",
       "      <td>...</td>\n",
       "      <td>C</td>\n",
       "      <td>07/09/2011</td>\n",
       "      <td>Sales</td>\n",
       "      <td>New rent</td>\n",
       "      <td>1</td>\n",
       "      <td>L</td>\n",
       "      <td>12</td>\n",
       "      <td>31</td>\n",
       "      <td>2012</td>\n",
       "      <td>36</td>\n",
       "    </tr>\n",
       "    <tr>\n",
       "      <th>4</th>\n",
       "      <td>6524</td>\n",
       "      <td>0</td>\n",
       "      <td>Non Existing Client</td>\n",
       "      <td>18/08/1953</td>\n",
       "      <td>10/01/2012</td>\n",
       "      <td>NP_Client</td>\n",
       "      <td>University</td>\n",
       "      <td>Married</td>\n",
       "      <td>2.0</td>\n",
       "      <td>1</td>\n",
       "      <td>...</td>\n",
       "      <td>C</td>\n",
       "      <td>11/01/2012</td>\n",
       "      <td>Sales</td>\n",
       "      <td>Owned</td>\n",
       "      <td>1</td>\n",
       "      <td>D</td>\n",
       "      <td>0</td>\n",
       "      <td>0</td>\n",
       "      <td>0</td>\n",
       "      <td>36</td>\n",
       "    </tr>\n",
       "  </tbody>\n",
       "</table>\n",
       "<p>5 rows × 21 columns</p>\n",
       "</div>"
      ],
      "text/plain": [
       "   Id_Customer  Y        Customer_Type   BirthDate Customer_Open_Date  \\\n",
       "0         7440  0  Non Existing Client  07/08/1977         13/02/2012   \n",
       "1          573  0      Existing Client  13/06/1974         04/02/2009   \n",
       "2         9194  0  Non Existing Client  07/11/1973         03/04/2012   \n",
       "3         3016  1      Existing Client  08/07/1982         25/08/2011   \n",
       "4         6524  0  Non Existing Client  18/08/1953         10/01/2012   \n",
       "\n",
       "    P_Client Educational_Level Marital_Status  Number_Of_Dependant  \\\n",
       "0  NP_Client        University        Married                  3.0   \n",
       "1   P_Client        University        Married                  0.0   \n",
       "2  NP_Client        University        Married                  2.0   \n",
       "3  NP_Client        University        Married                  3.0   \n",
       "4  NP_Client        University        Married                  2.0   \n",
       "\n",
       "   Years_At_Residence  ...  Prod_Sub_Category Prod_Decision_Date Source  \\\n",
       "0                   1  ...                  C         14/02/2012  Sales   \n",
       "1                  12  ...                  C         30/06/2011  Sales   \n",
       "2                  10  ...                  C         04/04/2012  Sales   \n",
       "3                   3  ...                  C         07/09/2011  Sales   \n",
       "4                   1  ...                  C         11/01/2012  Sales   \n",
       "\n",
       "  Type_Of_Residence Nb_Of_Products  Prod_Category Day(Prod_Closed_Date)  \\\n",
       "0             Owned              1              B                     0   \n",
       "1           Parents              1              G                     0   \n",
       "2             Owned              1              B                     0   \n",
       "3          New rent              1              L                    12   \n",
       "4             Owned              1              D                     0   \n",
       "\n",
       "   Month(Prod_Closed_Date)  Year(Prod_Closed_Date)  Net_Annual_Income  \n",
       "0                        0                       0                 36  \n",
       "1                        0                       0                 18  \n",
       "2                        0                       0                 36  \n",
       "3                       31                    2012                 36  \n",
       "4                        0                       0                 36  \n",
       "\n",
       "[5 rows x 21 columns]"
      ]
     },
     "execution_count": 1,
     "metadata": {},
     "output_type": "execute_result"
    }
   ],
   "source": [
    "import pandas as pd\n",
    "import numpy as np\n",
    "import matplotlib.pyplot as plt\n",
    "import seaborn as sns\n",
    "\n",
    "%matplotlib inline\n",
    "\n",
    "data = pd.read_csv(\"data/CreditTraining.csv\")\n",
    "data.head()"
   ]
  },
  {
   "cell_type": "code",
   "execution_count": 3,
   "metadata": {},
   "outputs": [
    {
     "name": "stdout",
     "output_type": "stream",
     "text": [
      "Probability of having Y=1: 0.07304832713754647\n"
     ]
    },
    {
     "data": {
      "text/html": [
       "<div>\n",
       "<style scoped>\n",
       "    .dataframe tbody tr th:only-of-type {\n",
       "        vertical-align: middle;\n",
       "    }\n",
       "\n",
       "    .dataframe tbody tr th {\n",
       "        vertical-align: top;\n",
       "    }\n",
       "\n",
       "    .dataframe thead th {\n",
       "        text-align: right;\n",
       "    }\n",
       "</style>\n",
       "<table border=\"1\" class=\"dataframe\">\n",
       "  <thead>\n",
       "    <tr style=\"text-align: right;\">\n",
       "      <th></th>\n",
       "      <th>Id_Customer</th>\n",
       "      <th>Y</th>\n",
       "      <th>Number_Of_Dependant</th>\n",
       "      <th>Years_At_Residence</th>\n",
       "      <th>Years_At_Business</th>\n",
       "      <th>Nb_Of_Products</th>\n",
       "      <th>Day(Prod_Closed_Date)</th>\n",
       "      <th>Month(Prod_Closed_Date)</th>\n",
       "      <th>Year(Prod_Closed_Date)</th>\n",
       "      <th>Net_Annual_Income</th>\n",
       "    </tr>\n",
       "  </thead>\n",
       "  <tbody>\n",
       "    <tr>\n",
       "      <th>count</th>\n",
       "      <td>5380.000000</td>\n",
       "      <td>5380.000000</td>\n",
       "      <td>5380.000000</td>\n",
       "      <td>5380.000000</td>\n",
       "      <td>5380.000000</td>\n",
       "      <td>5380.000000</td>\n",
       "      <td>5380.000000</td>\n",
       "      <td>5380.000000</td>\n",
       "      <td>5380.000000</td>\n",
       "      <td>5380.000000</td>\n",
       "    </tr>\n",
       "    <tr>\n",
       "      <th>mean</th>\n",
       "      <td>4784.535688</td>\n",
       "      <td>0.073048</td>\n",
       "      <td>1.058178</td>\n",
       "      <td>12.626022</td>\n",
       "      <td>4.264684</td>\n",
       "      <td>1.089033</td>\n",
       "      <td>1.338476</td>\n",
       "      <td>4.493866</td>\n",
       "      <td>439.137918</td>\n",
       "      <td>2635.775279</td>\n",
       "    </tr>\n",
       "    <tr>\n",
       "      <th>std</th>\n",
       "      <td>2781.436262</td>\n",
       "      <td>0.260240</td>\n",
       "      <td>1.338908</td>\n",
       "      <td>9.972164</td>\n",
       "      <td>7.225051</td>\n",
       "      <td>0.297587</td>\n",
       "      <td>2.981776</td>\n",
       "      <td>9.647812</td>\n",
       "      <td>831.269618</td>\n",
       "      <td>16887.691237</td>\n",
       "    </tr>\n",
       "    <tr>\n",
       "      <th>min</th>\n",
       "      <td>1.000000</td>\n",
       "      <td>0.000000</td>\n",
       "      <td>0.000000</td>\n",
       "      <td>0.000000</td>\n",
       "      <td>0.000000</td>\n",
       "      <td>1.000000</td>\n",
       "      <td>0.000000</td>\n",
       "      <td>0.000000</td>\n",
       "      <td>0.000000</td>\n",
       "      <td>0.000000</td>\n",
       "    </tr>\n",
       "    <tr>\n",
       "      <th>25%</th>\n",
       "      <td>2368.500000</td>\n",
       "      <td>0.000000</td>\n",
       "      <td>0.000000</td>\n",
       "      <td>4.000000</td>\n",
       "      <td>1.000000</td>\n",
       "      <td>1.000000</td>\n",
       "      <td>0.000000</td>\n",
       "      <td>0.000000</td>\n",
       "      <td>0.000000</td>\n",
       "      <td>21.000000</td>\n",
       "    </tr>\n",
       "    <tr>\n",
       "      <th>50%</th>\n",
       "      <td>4762.500000</td>\n",
       "      <td>0.000000</td>\n",
       "      <td>0.000000</td>\n",
       "      <td>10.000000</td>\n",
       "      <td>1.000000</td>\n",
       "      <td>1.000000</td>\n",
       "      <td>0.000000</td>\n",
       "      <td>0.000000</td>\n",
       "      <td>0.000000</td>\n",
       "      <td>36.000000</td>\n",
       "    </tr>\n",
       "    <tr>\n",
       "      <th>75%</th>\n",
       "      <td>7180.250000</td>\n",
       "      <td>0.000000</td>\n",
       "      <td>2.000000</td>\n",
       "      <td>18.000000</td>\n",
       "      <td>4.000000</td>\n",
       "      <td>1.000000</td>\n",
       "      <td>0.000000</td>\n",
       "      <td>0.000000</td>\n",
       "      <td>0.000000</td>\n",
       "      <td>50.000000</td>\n",
       "    </tr>\n",
       "    <tr>\n",
       "      <th>max</th>\n",
       "      <td>9605.000000</td>\n",
       "      <td>1.000000</td>\n",
       "      <td>20.000000</td>\n",
       "      <td>70.000000</td>\n",
       "      <td>98.000000</td>\n",
       "      <td>3.000000</td>\n",
       "      <td>12.000000</td>\n",
       "      <td>31.000000</td>\n",
       "      <td>2013.000000</td>\n",
       "      <td>387906.000000</td>\n",
       "    </tr>\n",
       "  </tbody>\n",
       "</table>\n",
       "</div>"
      ],
      "text/plain": [
       "       Id_Customer            Y  Number_Of_Dependant  Years_At_Residence  \\\n",
       "count  5380.000000  5380.000000          5380.000000         5380.000000   \n",
       "mean   4784.535688     0.073048             1.058178           12.626022   \n",
       "std    2781.436262     0.260240             1.338908            9.972164   \n",
       "min       1.000000     0.000000             0.000000            0.000000   \n",
       "25%    2368.500000     0.000000             0.000000            4.000000   \n",
       "50%    4762.500000     0.000000             0.000000           10.000000   \n",
       "75%    7180.250000     0.000000             2.000000           18.000000   \n",
       "max    9605.000000     1.000000            20.000000           70.000000   \n",
       "\n",
       "       Years_At_Business  Nb_Of_Products  Day(Prod_Closed_Date)  \\\n",
       "count        5380.000000     5380.000000            5380.000000   \n",
       "mean            4.264684        1.089033               1.338476   \n",
       "std             7.225051        0.297587               2.981776   \n",
       "min             0.000000        1.000000               0.000000   \n",
       "25%             1.000000        1.000000               0.000000   \n",
       "50%             1.000000        1.000000               0.000000   \n",
       "75%             4.000000        1.000000               0.000000   \n",
       "max            98.000000        3.000000              12.000000   \n",
       "\n",
       "       Month(Prod_Closed_Date)  Year(Prod_Closed_Date)  Net_Annual_Income  \n",
       "count              5380.000000             5380.000000        5380.000000  \n",
       "mean                  4.493866              439.137918        2635.775279  \n",
       "std                   9.647812              831.269618       16887.691237  \n",
       "min                   0.000000                0.000000           0.000000  \n",
       "25%                   0.000000                0.000000          21.000000  \n",
       "50%                   0.000000                0.000000          36.000000  \n",
       "75%                   0.000000                0.000000          50.000000  \n",
       "max                  31.000000             2013.000000      387906.000000  "
      ]
     },
     "execution_count": 3,
     "metadata": {},
     "output_type": "execute_result"
    }
   ],
   "source": [
    "print('Probability of having Y=1: ' + str(sum(data['Y']==1)/len(data) ) )\n",
    "data.describe()"
   ]
  },
  {
   "cell_type": "markdown",
   "metadata": {},
   "source": [
    "As we can see above the label we want to predict is highly unbalanced. Some approachs might be useful, such as using over sampling for the minority class (1) or under sampling for the majority class (0). This is to avoid overfitting and best estimates each model parameter.\n",
    "\n",
    "We will split the data as much as we can and see to take as much information a possible. We may also add some features that will help our models, such as the client age when he did the credit contract, the gap years between the decision and the open date.\n",
    "\n",
    "We performed some cluster algorithms and we added the cluster label as one more feature and hot encoding as well.\n",
    "\n",
    "### Data Summary:\n",
    "\n",
    "In this section we will find the importance of each feature individually to have Y=1.\n",
    "\n",
    "* *Categorical features*: [Customer_Type, P_Client, Educational_Level, Marital_Status, Prod_Category, Prod_Sub_Category, Source, Type_Of_Residence]\n",
    "\n",
    "* *Date Features*: [BirthDate, Customer_Open_Date, Prod_Decision_Date, Prod_Closed_Date]\n",
    "all of them will be transformed in years gap, behaving as a numerical feature.\n",
    "\n",
    "* Numerical Features: [Years_At_Residence, Net_Annual_Income, Years_At_Business, Number_Of_Dependant, Nb_Of_Products]"
   ]
  },
  {
   "cell_type": "markdown",
   "metadata": {},
   "source": [
    "### Categorical variable\n",
    "\n",
    "##### Key Takes\n",
    "\n",
    "* **Customer_type**: Small diference for a given customer type. Not a great importance for the model.\n",
    "* **P_Client**:  P_clients are less likely to receive Y=1.\n",
    "* **Educational_Level**: Secondary or less educational level usually don't receive Y=1. Other categories are relatively balanced.\n",
    "* **Marital_Status**: Not enough data to say the influence of Separated Marital Status to Y=1. Other categories seems to have some importance. Y=1 slightly more present on Single status.\n",
    "* **Prod_Category**: High correlation between Prod Category and Y=1, especially for H, K and L. Negative correlation for categories C and D. No samples with Y=1 for Categories I and F, most likely negative correlation.\n",
    "* **Prod_Sub_Category**: P sub category has almost no samples with Y=1. G has a very low percentage of y=1. C is most likely the sub product category most likely to have elements with Y=1. Very important feature.\n",
    "* **Source**: slightly more propability of having Y=1 if Source equals 'Sales'.\n",
    "* **Type_Of_Residence**: Significant positive probability difference for a residence of type new rent."
   ]
  },
  {
   "cell_type": "code",
   "execution_count": 4,
   "metadata": {},
   "outputs": [
    {
     "name": "stdout",
     "output_type": "stream",
     "text": [
      "Percentage of Non Existing Client with y=1: \n",
      "0.07773512476007678\n",
      "Percentage of Existing Client with y=1: \n",
      "0.08060182697474476\n"
     ]
    },
    {
     "data": {
      "image/png": "[encoded data removed]",
      "text/plain": [
       "<Figure size 432x288 with 1 Axes>"
      ]
     },
     "metadata": {},
     "output_type": "display_data"
    }
   ],
   "source": [
    "# Id_Customer: no relation to Y. \n",
    "CType = ['Non Existing Client', 'Existing Client']\n",
    "for var in CType:\n",
    "    print('Percentage of ' + var + ' with y=1: ')\n",
    "    print(data[ data['Y'] == 1 ]['Customer_Type'].value_counts()[var] / data[ data['Y'] == 0 ]['Customer_Type'].value_counts()[var])\n",
    "\n",
    "#Customer Type\n",
    "sns.set(style=\"whitegrid\")\n",
    "g = sns.countplot(x=\"Y\", hue='Customer_Type', data=data)"
   ]
  },
  {
   "cell_type": "code",
   "execution_count": 5,
   "metadata": {},
   "outputs": [
    {
     "name": "stdout",
     "output_type": "stream",
     "text": [
      "Percentage of P_Client with y=1: \n",
      "0.04040404040404041\n",
      "Percentage of NP_Client with y=1: \n",
      "0.08211718579830102\n"
     ]
    },
    {
     "data": {
      "image/png": "[encoded data removed]",
      "text/plain": [
       "<Figure size 432x288 with 1 Axes>"
      ]
     },
     "metadata": {},
     "output_type": "display_data"
    }
   ],
   "source": [
    "#P_Client\n",
    "P = ['P_Client', 'NP_Client']\n",
    "for p in P:\n",
    "    print('Percentage of ' + p + ' with y=1: ')\n",
    "    print(data[ data['Y'] == 1 ]['P_Client'].value_counts()[p] / data[ data['Y'] == 0 ]['P_Client'].value_counts()[p])\n",
    "    \n",
    "g = sns.countplot(x=\"Y\", hue='P_Client', data=data)"
   ]
  },
  {
   "cell_type": "code",
   "execution_count": 6,
   "metadata": {},
   "outputs": [
    {
     "name": "stdout",
     "output_type": "stream",
     "text": [
      "Percentage of University with y=1: \n",
      "0.08160036166365281\n",
      "Percentage of Master/PhD with y=1: \n",
      "0.058823529411764705\n",
      "Percentage of Diploma with y=1: \n",
      "0.05454545454545454\n"
     ]
    },
    {
     "data": {
      "image/png": "[encoded data removed]",
      "text/plain": [
       "<Figure size 432x288 with 1 Axes>"
      ]
     },
     "metadata": {},
     "output_type": "display_data"
    }
   ],
   "source": [
    "#Educational Level\n",
    "\n",
    "Ed_level = ['University', 'Master/PhD', 'Diploma']\n",
    "for ed in Ed_level:\n",
    "    print('Percentage of ' + ed + ' with y=1: ')\n",
    "    print(data[ data['Y'] == 1 ]['Educational_Level'].value_counts()[ed] / data[ data['Y'] == 0 ]['Educational_Level'].value_counts()[ed])\n",
    "    \n",
    "sns.set(style=\"whitegrid\")\n",
    "g = sns.countplot(x=\"Y\", hue='Educational_Level', data=data)"
   ]
  },
  {
   "cell_type": "code",
   "execution_count": 7,
   "metadata": {},
   "outputs": [
    {
     "name": "stdout",
     "output_type": "stream",
     "text": [
      "Percentage of Married with y=1: \n",
      "0.0743295019157088\n",
      "Percentage of Single with y=1: \n",
      "0.09758656873032528\n",
      "Percentage of Widowed with y=1: \n",
      "0.06666666666666667\n",
      "Percentage of Divorced with y=1: \n",
      "0.08620689655172414\n"
     ]
    },
    {
     "data": {
      "image/png": "[encoded data removed]",
      "text/plain": [
       "<Figure size 432x288 with 1 Axes>"
      ]
     },
     "metadata": {},
     "output_type": "display_data"
    }
   ],
   "source": [
    "# Marital Status\n",
    "feature = 'Marital_Status'\n",
    "Var = ['Married', 'Single', 'Widowed', 'Divorced']\n",
    "for var in Var:\n",
    "    print('Percentage of ' + var + ' with y=1: ')\n",
    "    print(data[ data['Y'] == 1 ][feature].value_counts()[var] / data[ data['Y'] == 0 ][feature].value_counts()[var])\n",
    "\n",
    "#Customer Type\n",
    "sns.set(style=\"whitegrid\")\n",
    "g = sns.countplot(x=\"Y\", hue=feature, data=data)"
   ]
  },
  {
   "cell_type": "code",
   "execution_count": 8,
   "metadata": {},
   "outputs": [
    {
     "name": "stdout",
     "output_type": "stream",
     "text": [
      "Percentage of A with y=1: \n",
      "0.05555555555555555\n",
      "total number of samples: 1\n",
      "\n",
      "Percentage of B with y=1: \n",
      "0.07224848075624578\n",
      "total number of samples: 214\n",
      "\n",
      "Percentage of C with y=1: \n",
      "0.0465587044534413\n",
      "total number of samples: 23\n",
      "\n",
      "Percentage of D with y=1: \n",
      "0.046875\n",
      "total number of samples: 30\n",
      "\n",
      "Percentage of E with y=1: \n",
      "0.01\n",
      "total number of samples: 1\n",
      "\n",
      "Percentage of G with y=1: \n",
      "0.0053475935828877\n",
      "total number of samples: 1\n",
      "\n",
      "Percentage of H with y=1: \n",
      "0.16176470588235295\n",
      "total number of samples: 11\n",
      "\n",
      "Percentage of K with y=1: \n",
      "0.09504132231404959\n",
      "total number of samples: 23\n",
      "\n",
      "Percentage of L with y=1: \n",
      "0.5629139072847682\n",
      "total number of samples: 85\n",
      "\n",
      "Percentage of M with y=1: \n",
      "0.08888888888888889\n",
      "total number of samples: 4\n",
      "\n"
     ]
    },
    {
     "data": {
      "text/plain": [
       "<matplotlib.legend.Legend at 0x7f8a2bd20310>"
      ]
     },
     "execution_count": 8,
     "metadata": {},
     "output_type": "execute_result"
    },
    {
     "data": {
      "image/png": "[encoded data removed]",
      "text/plain": [
       "<Figure size 1152x432 with 1 Axes>"
      ]
     },
     "metadata": {},
     "output_type": "display_data"
    }
   ],
   "source": [
    "# Prod Category\n",
    "feature = 'Prod_Category'\n",
    "Var = ['A', 'B', 'C', 'D', 'E', 'G', 'H', 'K', 'L', 'M']\n",
    "# F, I\n",
    "for var in Var:\n",
    "    print('Percentage of ' + var + ' with y=1: ')\n",
    "    print(data[ data['Y'] == 1 ][feature].value_counts()[var] / data[ data['Y'] == 0 ][feature].value_counts()[var])\n",
    "    print('total number of samples: '+ str(data[ data['Y'] == 1 ][feature].value_counts()[var]) + '\\n')\n",
    "\n",
    "#Customer Type\n",
    "sns.set(style=\"whitegrid\")\n",
    "plt.figure(figsize=(16, 6))\n",
    "g = sns.countplot(x=\"Y\", hue=feature, data=data)\n",
    "plt.legend(bbox_to_anchor=(1, 1), loc=2, borderaxespad=0.)"
   ]
  },
  {
   "cell_type": "code",
   "execution_count": 9,
   "metadata": {},
   "outputs": [
    {
     "name": "stdout",
     "output_type": "stream",
     "text": [
      "Percentage of C with y=1: \n",
      "0.08643710470836262\n",
      "total number of samples: 369\n",
      "\n",
      "Percentage of G with y=1: \n",
      "0.03826955074875208\n",
      "total number of samples: 23\n",
      "\n",
      "Percentage of P with y=1: \n",
      "0.008547008547008548\n",
      "total number of samples: 1\n",
      "\n"
     ]
    },
    {
     "data": {
      "image/png": "[encoded data removed]",
      "text/plain": [
       "<Figure size 432x288 with 1 Axes>"
      ]
     },
     "metadata": {},
     "output_type": "display_data"
    }
   ],
   "source": [
    "# Prod Sub Category\n",
    "feature = 'Prod_Sub_Category'\n",
    "Var = ['C', 'G', 'P']\n",
    "# F, I\n",
    "for var in Var:\n",
    "    print('Percentage of ' + var + ' with y=1: ')\n",
    "    print(data[ data['Y'] == 1 ][feature].value_counts()[var] / data[ data['Y'] == 0 ][feature].value_counts()[var])\n",
    "    print('total number of samples: '+ str(data[ data['Y'] == 1 ][feature].value_counts()[var]) + '\\n')\n",
    "\n",
    "#Customer Type\n",
    "sns.set(style=\"whitegrid\")\n",
    "g = sns.countplot(x=\"Y\", hue=feature, data=data)"
   ]
  },
  {
   "cell_type": "code",
   "execution_count": 10,
   "metadata": {},
   "outputs": [
    {
     "name": "stdout",
     "output_type": "stream",
     "text": [
      "Percentage of Sales with y=1: \n",
      "0.08110236220472442\n",
      "total number of samples: 309\n",
      "\n",
      "Percentage of Branch with y=1: \n",
      "0.0713678844519966\n",
      "total number of samples: 84\n",
      "\n"
     ]
    },
    {
     "data": {
      "image/png": "[encoded data removed]",
      "text/plain": [
       "<Figure size 432x288 with 1 Axes>"
      ]
     },
     "metadata": {},
     "output_type": "display_data"
    }
   ],
   "source": [
    "# Source\n",
    "feature = 'Source'\n",
    "Var = ['Sales', 'Branch']\n",
    "# F, I\n",
    "for var in Var:\n",
    "    print('Percentage of ' + var + ' with y=1: ')\n",
    "    print(data[ data['Y'] == 1 ][feature].value_counts()[var] / data[ data['Y'] == 0 ][feature].value_counts()[var])\n",
    "    print('total number of samples: '+ str(data[ data['Y'] == 1 ][feature].value_counts()[var]) + '\\n')\n",
    "\n",
    "#Customer Type\n",
    "sns.set(style=\"whitegrid\")\n",
    "g = sns.countplot(x=\"Y\", hue=feature, data=data)"
   ]
  },
  {
   "cell_type": "code",
   "execution_count": 11,
   "metadata": {},
   "outputs": [
    {
     "name": "stdout",
     "output_type": "stream",
     "text": [
      "Percentage of Owned with y=1: \n",
      "0.07662921348314607\n",
      "total number of samples: 341\n",
      "\n",
      "Percentage of Old rent with y=1: \n",
      "0.09491525423728814\n",
      "total number of samples: 28\n",
      "\n",
      "Percentage of Parents with y=1: \n",
      "0.0718562874251497\n",
      "total number of samples: 12\n",
      "\n",
      "Percentage of New rent with y=1: \n",
      "0.16901408450704225\n",
      "total number of samples: 12\n",
      "\n"
     ]
    },
    {
     "data": {
      "text/plain": [
       "<Figure size 576x432 with 0 Axes>"
      ]
     },
     "execution_count": 11,
     "metadata": {},
     "output_type": "execute_result"
    },
    {
     "data": {
      "image/png": "[encoded data removed]",
      "text/plain": [
       "<Figure size 432x288 with 1 Axes>"
      ]
     },
     "metadata": {},
     "output_type": "display_data"
    },
    {
     "data": {
      "text/plain": [
       "<Figure size 576x432 with 0 Axes>"
      ]
     },
     "metadata": {},
     "output_type": "display_data"
    }
   ],
   "source": [
    "# Type of residence\n",
    "feature = 'Type_Of_Residence'\n",
    "Var = ['Owned', 'Old rent', 'Parents', 'New rent']\n",
    "\n",
    "for var in Var:\n",
    "    print('Percentage of ' + var + ' with y=1: ')\n",
    "    print(data[ data['Y'] == 1 ][feature].value_counts()[var] / data[ data['Y'] == 0 ][feature].value_counts()[var])\n",
    "    print('total number of samples: '+ str(data[ data['Y'] == 1 ][feature].value_counts()[var]) + '\\n')\n",
    "\n",
    "#Customer Type\n",
    "sns.set(style=\"whitegrid\")\n",
    "g = sns.countplot(x=\"Y\", hue=feature, data=data)\n",
    "plt.figure(figsize=(8, 6))"
   ]
  },
  {
   "cell_type": "markdown",
   "metadata": {},
   "source": [
    "### Numerical and Date Features\n",
    "\n",
    "* **BirthDate**:\n",
    "* **Customer_Open_Date**:\n",
    "* **Prod_Decision_Date**:\n",
    "* **Prod_Closed_Date**:\n",
    "* **Years_At_Residence**:\n",
    "* **Net_Annual_Income**:\n",
    "* **Years_At_Business**:\n",
    "* **Number_Of_Dependant**:\n",
    "* **Nb_Of_Products**:"
   ]
  },
  {
   "cell_type": "code",
   "execution_count": 12,
   "metadata": {},
   "outputs": [
    {
     "data": {
      "text/plain": [
       "Owned       4791\n",
       "Old rent     323\n",
       "Parents      179\n",
       "New rent      83\n",
       "Company        4\n",
       "Name: Type_Of_Residence, dtype: int64"
      ]
     },
     "execution_count": 12,
     "metadata": {},
     "output_type": "execute_result"
    }
   ],
   "source": [
    "data.columns\n",
    "data['Type_Of_Residence'].value_counts()"
   ]
  },
  {
   "cell_type": "markdown",
   "metadata": {},
   "source": [
    "### Data Preparation\n",
    "\n",
    "The code responsible for preparing the data can be found at the folder data/data_preparation.py (only by running them one will have the same outputs).\n",
    "The initial file CreditTraining.csv must be in the folder data as well.\n",
    "\n",
    "The date columns was split in day,month, and year. \n",
    "We added 3 clusters as new feature as well, in order to find similarities with an unsupervised way. We performed the clustering with different approach and dissimilarities to enlarge the possibilities and to catch the maximum of information among them.\n",
    "\n",
    "$\\bullet$ K-means clustering: $k$ = 2 and $k$ = 3\n",
    "\n",
    "$\\bullet$ Agglomerative CLustering clustering: Dissimilarity: Cosine, Euclidean\n",
    "\n",
    "$\\bullet$ DBSCAN: eps = 3\n",
    "\n",
    "We found some improvement after adding this features."
   ]
  },
  {
   "cell_type": "code",
   "execution_count": 13,
   "metadata": {},
   "outputs": [
    {
     "data": {
      "text/plain": [
       "Index(['Day(Prod_Closed_Date)', 'Month(Prod_Closed_Date)',\n",
       "       'Year(Prod_Closed_Date)', 'Customer_Type_Existing Client',\n",
       "       'Customer_Type_Non Existing Client', 'P_Client_NP_Client',\n",
       "       'P_Client_P_Client', 'Educational_Level_Diploma',\n",
       "       'Educational_Level_Master/PhD', 'Educational_Level_Secondary or Less',\n",
       "       'Educational_Level_University', 'Marital_Status_Divorced',\n",
       "       'Marital_Status_Married', 'Marital_Status_Separated',\n",
       "       'Marital_Status_Single', 'Marital_Status_Widowed',\n",
       "       'Prod_Sub_Category_C', 'Prod_Sub_Category_G', 'Prod_Sub_Category_P',\n",
       "       'Source_Branch', 'Source_Sales', 'Type_Of_Residence_Company',\n",
       "       'Type_Of_Residence_New rent', 'Type_Of_Residence_Old rent',\n",
       "       'Type_Of_Residence_Owned', 'Type_Of_Residence_Parents',\n",
       "       'Prod_Category_A', 'Prod_Category_B', 'Prod_Category_C',\n",
       "       'Prod_Category_D', 'Prod_Category_E', 'Prod_Category_F',\n",
       "       'Prod_Category_G', 'Prod_Category_H', 'Prod_Category_I',\n",
       "       'Prod_Category_J', 'Prod_Category_K', 'Prod_Category_L',\n",
       "       'Prod_Category_M', 'Number_Of_Dependant', 'Years_At_Residence',\n",
       "       'Net_Annual_Income', 'Years_At_Business', 'Nb_Of_Products',\n",
       "       'DAY(BirthDate)', 'DAY(Customer_Open_Date)', 'DAY(Prod_Decision_Date)',\n",
       "       'YEAR(BirthDate)', 'YEAR(Customer_Open_Date)',\n",
       "       'YEAR(Prod_Decision_Date)', 'MONTH(BirthDate)',\n",
       "       'MONTH(Customer_Open_Date)', 'MONTH(Prod_Decision_Date)',\n",
       "       'WEEKDAY(BirthDate)', 'WEEKDAY(Customer_Open_Date)',\n",
       "       'WEEKDAY(Prod_Decision_Date)', 'Age(Prod_Decision_Date)', 'Gap',\n",
       "       'KMeans 2', 'KMeans 3', 'Agglomerative Clustering Cosine',\n",
       "       'Agglomerative Clustering Euclidean', 'DBSCAN eps = 3', 'Y'],\n",
       "      dtype='object')"
      ]
     },
     "execution_count": 13,
     "metadata": {},
     "output_type": "execute_result"
    }
   ],
   "source": [
    "final_data = pd.read_csv('data/data_final.csv')\n",
    "final_data.columns "
   ]
  },
  {
   "cell_type": "code",
   "execution_count": 14,
   "metadata": {},
   "outputs": [
    {
     "data": {
      "text/plain": [
       "Day(Prod_Closed_Date)                 0.494247\n",
       "Month(Prod_Closed_Date)               0.590946\n",
       "Year(Prod_Closed_Date)                0.474199\n",
       "Customer_Type_Existing Client         0.004577\n",
       "Customer_Type_Non Existing Client    -0.004577\n",
       "                                        ...   \n",
       "KMeans 3                              0.072309\n",
       "Agglomerative Clustering Cosine      -0.003383\n",
       "Agglomerative Clustering Euclidean    0.039087\n",
       "DBSCAN eps = 3                        0.033245\n",
       "Y                                     1.000000\n",
       "Name: Y, Length: 64, dtype: float64"
      ]
     },
     "execution_count": 14,
     "metadata": {},
     "output_type": "execute_result"
    }
   ],
   "source": [
    "final_data.corr()['Y']"
   ]
  },
  {
   "cell_type": "markdown",
   "metadata": {},
   "source": [
    "As we can see above we have several features were added. But still the closed date has a great impact on the label we want to predict. \n",
    "\n",
    "Below we can see what a ****PCA**** performed with StandardScaler. With 20 attributes we can have much of the information presented in the data set as seen in the variance ratio plot below."
   ]
  },
  {
   "cell_type": "code",
   "execution_count": 25,
   "metadata": {
    "scrolled": true
   },
   "outputs": [
    {
     "data": {
      "text/plain": [
       "[<matplotlib.lines.Line2D at 0x7f8a0d0cd450>]"
      ]
     },
     "execution_count": 25,
     "metadata": {},
     "output_type": "execute_result"
    },
    {
     "data": {
      "image/png": "[encoded data removed]",
      "text/plain": [
       "<Figure size 864x360 with 1 Axes>"
      ]
     },
     "metadata": {},
     "output_type": "display_data"
    }
   ],
   "source": [
    "from sklearn.preprocessing import StandardScaler\n",
    "from sklearn.decomposition import PCA\n",
    "X = final_data.drop(\"Y\", axis = 1)\n",
    "y = final_data[[\"Y\"]]\n",
    "\n",
    "n_comp = len(X.T) #number of columnns (63)\n",
    "columns = [\"pca\" +str(i+1) for i in range(n_comp)]\n",
    "#Scale the attributes\n",
    "scaled_features = StandardScaler().fit_transform(X.values)\n",
    "scaled_features_df = pd.DataFrame(scaled_features, index = X.index, columns = X.columns)\n",
    "#Perform the matrix decomposition\n",
    "pca = PCA(n_components = n_comp)\n",
    "pca.fit(scaled_features_df)\n",
    "\n",
    "#plot the explained variance\n",
    "variance = pca.explained_variance_ratio_\n",
    "var = np.cumsum(np.round(pca.explained_variance_ratio_, decimals = 3) * 100)\n",
    "\n",
    "plt.figure(figsize=(12,5))\n",
    "plt.ylabel('% Variance Explained')\n",
    "plt.xlabel('# of Features')\n",
    "plt.title('PCA Analysis')\n",
    "plt.ylim(30,100.5)\n",
    "plt.style.context('seaborn-whitegrid')\n",
    "plt.plot(var)"
   ]
  },
  {
   "cell_type": "markdown",
   "metadata": {},
   "source": [
    "As we can see, with 35% of features we have 90% of the information approximatively. So when we performed PCA within the X dataset we have put 20 as the number of components (35%*63 $\\sim$ 21)"
   ]
  },
  {
   "cell_type": "markdown",
   "metadata": {},
   "source": [
    "### Models\n",
    "\n",
    "We have tried several classification algorithms to perform the present task. For each classification we specified some details such as:\n",
    "\n",
    "$\\bullet$ Scale: if the observed attributes would be Standardized;\n",
    "\n",
    "$\\bullet$ PCA: if the model would receive the principal axis component as input.\n",
    "\n",
    "$\\bullet$ Over: if we would do Over Sampling in the training data (To balance the minority class, by duplicating its rows)\n",
    "\n",
    "$\\bullet$ Under: if we would do Under Sampling in the training data (To balance the minority class, by excluding or merging some rows of the most common class).\n",
    "\n",
    "#### TPOT\n",
    "With the evolution of automated methods for Machine Learning pipelines, we use TPOT to have an insight into which algorithm to use and the f1 score.\n",
    "TPOT has a genetic search algorithm within to find the best parameters and model ensembles. It could also be thought of as a natural selection or evolutionary algorithm.\n",
    "\n",
    "#### $\\bullet$  AdaBoostClassifier\n",
    "\n",
    "AdaBoost classifier is a meta-estimator that begins by fitting a classifier on the original dataset and then fits additional copies of the classifier on the same dataset but where the weights of incorrectly classified instances are adjusted such that subsequent classifiers focus more on difficult cases.\n",
    "As seen in course the final estimmator is chosen among a group of possible estimators and then combined iteratively with the optimization of the loss function\n",
    "\n",
    "#### $\\bullet$ BaggingClassifier\n",
    "\n",
    "A Bagging classifier is an ensemble meta-estimator that fits base classifiers each on random subsets of the original dataset and then aggregate their individual predictions (either by voting or by averaging) to form a final prediction.\n",
    "\n",
    "#### $\\bullet$ GradientBoostClassifier\n",
    "\n",
    "A general approach that builds the model in a stage-wise fashion like other boosting methods do, and it generalizes them by allowing optimization of an arbitrary differentiable loss function. It allows us to see and test different loss functions. \n",
    "\n",
    "#### Trees and Forest Approachs\n",
    "#### $\\bullet$ ExtraTreesClassifier (Low Variance)\n",
    "\n",
    "Extra Trees is like a Random Forest, in that it builds multiple trees and splits nodes using random subsets of features, but with two differences: it does not bootstrap observations (meaning it samples without replacement), and nodes are split on random splits, not best splits.\n",
    "\n",
    "#### $\\bullet$ DecisionTreeClassifier (High Variance)\n",
    "\n",
    "It breaks down a dataset into smaller and smaller subsets while at the same time an associated decision tree is incrementally developed. The final result is a tree with decision nodes and leaf nodes.\n",
    "\n",
    "#### $\\bullet$ RandomForestClassifier (Medium Variance)\n",
    "\n",
    "Random Forest uses decision trees with a depth of one or greater. The term random stems from the fact that we randomly sample the training set, and since we have a collection of trees.\n",
    "\n",
    "\n",
    "##### Data used\n",
    "\n",
    "The best Cross Validation output with the default hyperparameters were achived ****scaling**** the data and performing the ****sampling**** method to the training data (****under**** and ****over****, respectively). The summary of the performance of all methods can be found in *summary _____ .txt* files in the src folder.\n",
    "\n",
    "The choice of models was made based on the algorithms and methodologies seen in the course. With the above algorithms we were able to perform the adjustment of hyperparameters many of which mentioned in the course, such as: the choice of the descending gradient optimization, the choice of the learning rate, regularization methods and adjustments in the loss function."
   ]
  },
  {
   "cell_type": "code",
   "execution_count": 69,
   "metadata": {},
   "outputs": [
    {
     "name": "stderr",
     "output_type": "stream",
     "text": [
      "/home/joao/.local/lib/python3.7/site-packages/sklearn/utils/validation.py:744: DataConversionWarning: A column-vector y was passed when a 1d array was expected. Please change the shape of y to (n_samples, ), for example using ravel().\n",
      "  y = column_or_1d(y, warn=True)\n"
     ]
    },
    {
     "data": {
      "application/vnd.jupyter.widget-view+json": {
       "model_id": "1b834aaaaf3347bfaedf8b8c47df2e10",
       "version_major": 2,
       "version_minor": 0
      },
      "text/plain": [
       "HBox(children=(FloatProgress(value=0.0, description='Optimization Progress', max=120.0, style=ProgressStyle(de…"
      ]
     },
     "metadata": {},
     "output_type": "display_data"
    },
    {
     "name": "stdout",
     "output_type": "stream",
     "text": [
      "Generation 1 - Current best internal CV score: 0.7697729454643077\n",
      "Generation 2 - Current best internal CV score: 0.7697729454643077\n",
      "Generation 3 - Current best internal CV score: 0.7697729454643077\n",
      "Generation 4 - Current best internal CV score: 0.7697729454643077\n",
      "Generation 5 - Current best internal CV score: 0.7719171542090484\n",
      "\n",
      "Best pipeline: GradientBoostingClassifier(MinMaxScaler(MinMaxScaler(input_matrix)), learning_rate=0.1, max_depth=8, max_features=0.8500000000000001, min_samples_leaf=20, min_samples_split=18, n_estimators=100, subsample=1.0)\n"
     ]
    },
    {
     "name": "stderr",
     "output_type": "stream",
     "text": [
      "/home/joao/.local/lib/python3.7/site-packages/sklearn/utils/validation.py:744: DataConversionWarning: A column-vector y was passed when a 1d array was expected. Please change the shape of y to (n_samples, ), for example using ravel().\n",
      "  y = column_or_1d(y, warn=True)\n"
     ]
    },
    {
     "data": {
      "text/plain": [
       "0.6885245901639344"
      ]
     },
     "execution_count": 69,
     "metadata": {},
     "output_type": "execute_result"
    }
   ],
   "source": [
    "from tpot import TPOTClassifier\n",
    "from sklearn.model_selection import train_test_split\n",
    "from sklearn.metrics import f1_score\n",
    "\n",
    "data = pd.read_csv(\"data/data_final.csv\")\n",
    "X = data.drop(\"Y\", axis = 1)\n",
    "y = data[[\"Y\"]]\n",
    "\n",
    "X_train, X_test, y_train, y_test = train_test_split(X, y, test_size=0.2)\n",
    "\n",
    "tpot = TPOTClassifier(generations = 5, population_size = 20, cv = 3, verbosity=2, scoring = 'f1')\n",
    "\n",
    "tpot.fit(X_train, y_train)\n",
    "tpot.score(X_test, y_test)"
   ]
  },
  {
   "cell_type": "markdown",
   "metadata": {},
   "source": [
    "As we can see the TPOT has found a Gradient BoostClassifier for this task. We have used the F1 - score as the target to maximize, since we hope to get both Precision and Recall as high as possible, but without any preference between thm."
   ]
  },
  {
   "cell_type": "code",
   "execution_count": 70,
   "metadata": {},
   "outputs": [],
   "source": [
    "from sklearn.metrics import f1_score, accuracy_score, precision_score, recall_score\n",
    "from sklearn.metrics import roc_auc_score\n",
    "from sklearn.metrics import precision_recall_fscore_support as score\n",
    "from sklearn.model_selection import cross_val_predict, cross_val_score\n",
    "from sklearn.model_selection import GridSearchCV\n",
    "from imblearn.under_sampling import RandomUnderSampler\n",
    "from imblearn.over_sampling import RandomOverSampler\n",
    "from sklearn.preprocessing import StandardScaler, MinMaxScaler\n",
    "from sklearn.decomposition import PCA\n",
    "\n",
    "##################################################################################################\n",
    "\n",
    "##Classifiers\n",
    "from sklearn.ensemble import AdaBoostClassifier #begins by fitting a classifier on the original dataset and then fits additional copies of the classifier on the same dataset but where the weights of incorrectly classified instances are adjusted\n",
    "from sklearn.ensemble import BaggingClassifier #Bagging classifier fits base classifiers each on random subsets of the original dataset and aggregate their individual predictions\n",
    "from sklearn.ensemble import ExtraTreesClassifier #Extremely Random Trees: This class implements a meta estimator that fits a number of randomized decision trees (a.k.a. extra-trees) on various sub-samples of the dataset and uses averaging to improve the predictive accuracy and control over-fitting\n",
    "from sklearn.ensemble import GradientBoostingClassifier #GB builds an additive model in a forward stage-wise fashion; it allows for the optimization of arbitrary differentiable loss functions\n",
    "from sklearn.tree import DecisionTreeClassifier\n",
    "from sklearn.linear_model import SGDClassifier\n",
    "from sklearn.ensemble import RandomForestClassifier\n",
    "from sklearn.neighbors import KNeighborsClassifier #Classifier implementing the k-nearest neighbors vote.\n",
    "from sklearn.ensemble import VotingClassifier"
   ]
  },
  {
   "cell_type": "code",
   "execution_count": 72,
   "metadata": {},
   "outputs": [],
   "source": [
    "# Data Preparation Parameters\n",
    "\n",
    "data = pd.read_csv(\"data/data_final.csv\")\n",
    "X = data.drop(\"Y\", axis = 1)\n",
    "y = data[[\"Y\"]]\n",
    "y = y.values.ravel()\n",
    "\n",
    "\n",
    "scale = False #Standad Scaler\n",
    "pca = False\n",
    "n_comp = 20\n",
    "over = False\n",
    "under = False"
   ]
  },
  {
   "cell_type": "code",
   "execution_count": 73,
   "metadata": {},
   "outputs": [],
   "source": [
    "#Data Preparation \n",
    "\n",
    "if scale:        \n",
    "    scaled_features = StandardScaler().fit_transform(X.values)\n",
    "    X = pd.DataFrame(scaled_features, index = X.index, columns = X.columns)\n",
    "    \n",
    "    \n",
    "if pca:\n",
    "    columns = [\"pca\" +str(i+1) for i in range(n_comp)]\n",
    "            \n",
    "    scaled_features = MinMaxScaler().fit_transform(X.values)\n",
    "    scaled_features_df = pd.DataFrame(scaled_features, index = X.index, columns = X.columns)\n",
    "    \n",
    "    pca = PCA(n_components = n_comp)\n",
    "    pca.fit(scaled_features_df)\n",
    "    \n",
    "    X = pca.transform(scaled_features_df)\n",
    "    X = pd.DataFrame(X)\n",
    "    X.columns = columns\n",
    "                 \n",
    "        \n",
    "X_train, X_test, y_train, y_test = train_test_split(X, y, test_size=0.2, random_state = 0)\n",
    "  \n",
    "    \n",
    "if over:\n",
    "    ros = RandomOverSampler(sampling_strategy = 'minority')\n",
    "    X_train, y_train = ros.fit_resample(X_train, y_train)\n",
    "    \n",
    "if under:\n",
    "    rus = RandomUnderSampler(sampling_strategy = 'majority')\n",
    "    X_train, y_train = rus.fit_resample(X_train, y_train)"
   ]
  },
  {
   "cell_type": "code",
   "execution_count": 74,
   "metadata": {
    "scrolled": true
   },
   "outputs": [
    {
     "name": "stdout",
     "output_type": "stream",
     "text": [
      "Summary for classifiers -- CV = 3\n",
      "AdaBoostClassifier\n",
      "Train scores: \n",
      "f1-score: 0.75\tAccuracy: 0.967\tPrecision: 0.814\tRecall: 0.696\tROC-AUC: 0.842\n",
      "Test scores: \n",
      "f1-score: 0.776\tAccuracy: 0.968\tPrecision: 0.868\tRecall: 0.702\tROC-AUC: 0.847\n",
      "CV scores: \n",
      "f1-score: 0.695\tAccuracy: 0.958\tPrecision: 0.741\tRecall: 0.654\tROC-AUC: 0.818\n",
      "\n",
      "**********************************************************************\n",
      "BaggingClassifier\n",
      "Train scores: \n",
      "f1-score: 0.973\tAccuracy: 0.996\tPrecision: 1.0\tRecall: 0.948\tROC-AUC: 0.974\n",
      "Test scores: \n",
      "f1-score: 0.765\tAccuracy: 0.967\tPrecision: 0.877\tRecall: 0.679\tROC-AUC: 0.835\n",
      "CV scores: \n",
      "f1-score: 0.731\tAccuracy: 0.966\tPrecision: 0.851\tRecall: 0.641\tROC-AUC: 0.816\n",
      "\n",
      "**********************************************************************\n",
      "ExtraTreesClassifier\n",
      "Train scores: \n",
      "f1-score: 1.0\tAccuracy: 1.0\tPrecision: 1.0\tRecall: 1.0\tROC-AUC: 1.0\n",
      "Test scores: \n",
      "f1-score: 0.71\tAccuracy: 0.963\tPrecision: 0.907\tRecall: 0.583\tROC-AUC: 0.789\n",
      "CV scores: \n",
      "f1-score: 0.669\tAccuracy: 0.961\tPrecision: 0.866\tRecall: 0.545\tROC-AUC: 0.769\n",
      "\n",
      "**********************************************************************\n",
      "GradientBoostClassifier\n",
      "Train scores: \n",
      "f1-score: 0.837\tAccuracy: 0.979\tPrecision: 0.925\tRecall: 0.764\tROC-AUC: 0.879\n",
      "Test scores: \n",
      "f1-score: 0.784\tAccuracy: 0.97\tPrecision: 0.906\tRecall: 0.69\tROC-AUC: 0.842\n",
      "CV scores: \n",
      "f1-score: 0.752\tAccuracy: 0.967\tPrecision: 0.849\tRecall: 0.674\tROC-AUC: 0.832\n",
      "\n",
      "**********************************************************************\n",
      "DecisionTreeClassifier\n",
      "Train scores: \n",
      "f1-score: 1.0\tAccuracy: 1.0\tPrecision: 1.0\tRecall: 1.0\tROC-AUC: 1.0\n",
      "Test scores: \n",
      "f1-score: 0.659\tAccuracy: 0.946\tPrecision: 0.651\tRecall: 0.667\tROC-AUC: 0.818\n",
      "CV scores: \n",
      "f1-score: 0.636\tAccuracy: 0.944\tPrecision: 0.604\tRecall: 0.672\tROC-AUC: 0.819\n",
      "\n",
      "**********************************************************************\n",
      "RandomForestClassifier\n",
      "Train scores: \n",
      "f1-score: 1.0\tAccuracy: 1.0\tPrecision: 1.0\tRecall: 1.0\tROC-AUC: 1.0\n",
      "Test scores: \n",
      "f1-score: 0.767\tAccuracy: 0.968\tPrecision: 0.903\tRecall: 0.667\tROC-AUC: 0.83\n",
      "CV scores: \n",
      "f1-score: 0.697\tAccuracy: 0.963\tPrecision: 0.874\tRecall: 0.58\tROC-AUC: 0.787\n",
      "\n",
      "**********************************************************************\n",
      "End\n"
     ]
    }
   ],
   "source": [
    "# Classification Models\n",
    "print(\"Summary for classifiers -- CV = 3\")\n",
    "\n",
    "clf = [\n",
    "            [AdaBoostClassifier(), \"AdaBoostClassifier\"],\n",
    "            [BaggingClassifier(), \"BaggingClassifier\"],\n",
    "            [ExtraTreesClassifier(), \"ExtraTreesClassifier\"],\n",
    "            [GradientBoostingClassifier(), \"GradientBoostClassifier\"],\n",
    "            [DecisionTreeClassifier(), \"DecisionTreeClassifier\"],\n",
    "            [RandomForestClassifier(), \"RandomForestClassifier\"]\n",
    "        ]\n",
    "\n",
    "performance_train = {}\n",
    "performance_test = {}\n",
    "performance_cv = {}\n",
    "    \n",
    "for classifier, clf_name in clf: performance_train[clf_name] = []\n",
    "for classifier, clf_name in clf: performance_test[clf_name] = []\n",
    "for classifier, clf_name in clf: performance_cv[clf_name] = []\n",
    "\n",
    "for elem in clf: #Use each classifier in clf\n",
    "    classifier = elem[0]\n",
    "    classifier_name = elem[1]\n",
    "    print(classifier_name)\n",
    "        \n",
    "    try:    \n",
    "        classifier.fit(X_train, y_train)\n",
    "            \n",
    "        y_hat = classifier.predict(X_train)\n",
    "        #Train Scores:\n",
    "        f1_train = f1_score(y_train, y_hat)\n",
    "        accuracy_train = accuracy_score(y_train, y_hat)\n",
    "        precision_train = precision_score(y_train, y_hat)\n",
    "        recall_train = recall_score(y_train, y_hat)\n",
    "        roc_auc_train = roc_auc_score(y_train, y_hat)\n",
    "        #Print train Scores\n",
    "        print(f\"Train scores: \\nf1-score: {round(f1_train,3)}\\tAccuracy: {round(accuracy_train, 3)}\\tPrecision: {round(precision_train,3)}\\tRecall: {round(recall_train,3)}\\tROC-AUC: {round(roc_auc_train,3)}\")\n",
    "        #Sava train scors for comparison\n",
    "        performance_train[classifier_name].append(f1_train)\n",
    "        performance_train[classifier_name].append(accuracy_train)\n",
    "        performance_train[classifier_name].append(precision_train)\n",
    "        performance_train[classifier_name].append(recall_train)\n",
    "        performance_train[classifier_name].append(roc_auc_train)\n",
    "           \n",
    "        y_pred = classifier.predict(X_test)\n",
    "        #Test scores\n",
    "        f1_test = f1_score(y_test, y_pred)\n",
    "        accuracy_test = accuracy_score(y_test, y_pred)\n",
    "        precision_test = precision_score(y_test, y_pred)\n",
    "        recall_test = recall_score(y_test, y_pred)\n",
    "        roc_auc_test = roc_auc_score(y_test, y_pred)\n",
    "        #Print test scores          \n",
    "        print(f\"Test scores: \\nf1-score: {round(f1_test,3)}\\tAccuracy: {round(accuracy_test,3)}\\tPrecision: {round(precision_test,3)}\\tRecall: {round(recall_test,3)}\\tROC-AUC: {round(roc_auc_test,3)}\")\n",
    "          #Save test scores\n",
    "        performance_test[classifier_name].append(f1_test)\n",
    "        performance_test[classifier_name].append(accuracy_test)\n",
    "        performance_test[classifier_name].append(precision_test)\n",
    "        performance_test[classifier_name].append(recall_test)\n",
    "        performance_test[classifier_name].append(roc_auc_test)\n",
    "            \n",
    "            #Cross validation\n",
    "        y_cv = cross_val_predict(classifier, X, y, cv = 3)\n",
    "        #CV scores\n",
    "        f1_cv = f1_score(y, y_cv)\n",
    "        accuracy_cv = accuracy_score(y, y_cv)\n",
    "        precision_cv = precision_score(y, y_cv)\n",
    "        recall_cv = recall_score(y, y_cv)\n",
    "        roc_auc_cv = roc_auc_score(y, y_cv)\n",
    "        #Print CV scores\n",
    "        print(f\"CV scores: \\nf1-score: {round(f1_cv,3)}\\tAccuracy: {round(accuracy_cv,3)}\\tPrecision: {round(precision_cv,3)}\\tRecall: {round(recall_cv,3)}\\tROC-AUC: {round(roc_auc_cv,3)}\")\n",
    "        #Save CV scores\n",
    "        performance_cv[classifier_name].append(f1_cv)\n",
    "        performance_cv[classifier_name].append(accuracy_cv)\n",
    "        performance_cv[classifier_name].append(precision_cv)\n",
    "        performance_cv[classifier_name].append(recall_cv)\n",
    "        performance_cv[classifier_name].append(roc_auc_cv)\n",
    "\n",
    "        print(\"\\n**********************************************************************\")\n",
    "    except ImportError:\n",
    "        print(\"Classifier \\\"\" + classifier_name + \"failed.\")\n",
    "print(\"End\")"
   ]
  },
  {
   "cell_type": "markdown",
   "metadata": {},
   "source": [
    "From the text books and other sources, the ****ROC - AUC Score(best CV: $\\sim$ .832)**** and ****F1 (best CV: $\\sim$ .784)**** are both good for this classification task. The classifiers have well learned the information within the data. The ensemble methods have achived abetter score than the tree methods.\n",
    "\n",
    "The optimization of the above methods didn't have a big improvement, so we omitted it in the notebook, but we can find it in the optimizer.py code in the src folder. The result is in /prune.txt/ with the respective hyperparameters."
   ]
  },
  {
   "cell_type": "markdown",
   "metadata": {},
   "source": [
    "#### XGBoost\n",
    "We have pruned an XGBoost model as weel in order to perform the classification task. Because as wee can see above, Gradient Boosting and AdaBoost model have a good performance in the dataset.\n",
    "\n",
    "$\\bullet$ XGBoost has many advantages since it can be conseidered a regularized version of Gradient Boosting methods and we can easily control its hyperparametrs.\n",
    "\n",
    "$\\bullet$ XGBoost has in-built L1 (Lasso Regression) and L2 (Ridge Regression) regularization which prevents the model from overfitting. \n",
    "\n",
    "$\\bullet$ XGBoost utilizes the power of parallel processing and that is why it is faster than GBM to prune.\n",
    "\n",
    "$\\bullet$ XGBoost allows user to run a cross-validation at each iteration of the boosting process and thus it is easy to get the exact optimum number of boosting iterations in a single run. \n",
    "\n",
    "$\\bullet$ A Gradient Boosting algorithm would stop splitting a node when it encounters a negative loss in the split (it can no longer optimize),like a greedy algorithm. XGBoost on the contrary, make splits upto the max_depth specified and then start pruning the tree backwards and remove splits beyond which there is no positive gain.\n",
    "\n",
    "Running the cells bellow the best parameters we could found for XGBoost were:\n",
    "\n",
    "    1. best_colsample_bytree = 0.7\n",
    "    2. best_subsample = 1.0\n",
    "    3. best_max_depth = 5\n",
    "    4. best_min_child_weight = 3\n",
    "    5. best_gamma = 0.3\n",
    "    6. best_reg_lambda = 0.5\n",
    "    7. best_reg_alpha = 0.1\n",
    "    8. LearningRate = 0.07"
   ]
  },
  {
   "cell_type": "code",
   "execution_count": 53,
   "metadata": {},
   "outputs": [],
   "source": [
    "import xgboost\n",
    "\n",
    "from sklearn.model_selection import KFold\n",
    "from sklearn.model_selection import cross_val_score\n",
    "from sklearn.metrics import mean_absolute_error\n",
    "from sklearn.metrics import f1_score\n",
    "from sklearn.metrics import classification_report\n",
    "from sklearn.model_selection import GridSearchCV\n",
    "from xgboost import XGBClassifier\n",
    "\n",
    "\n",
    "\n",
    "def XGB(LR = 0.1, n_est = 1000, max_d = 5, min_c = 1, gm = 0, colsample = 0.8, subs = 1, lambd = 0, alpha = 0):\n",
    "   \n",
    "    xgb1_model = XGBClassifier( learning_rate=LR, \n",
    "                                            n_estimators=n_est,\n",
    "                                            max_depth=max_d,\n",
    "                                            min_child_weight=min_c,                         \n",
    "                                            gamma=min_c,\n",
    "                                            colsample_bytree=colsample,\n",
    "                                            subsample=subs,\n",
    "                                            objective ='binary:logistic',                   \n",
    "                                            reg_lambda=lambd,\n",
    "                                            reg_alpha=alpha,\n",
    "                                            scale_pos_weight = 1,\n",
    "                                            seed=42)\n",
    "\n",
    "\n",
    "    xgb1_model.fit(X_train,y_train)\n",
    "    y_predicted = xgb1_model.predict(X_test)\n",
    "    y_predicted_train = xgb1_model.predict(X_train)\n",
    "\n",
    "\n",
    "    print('performance over the training set: ' + str(f1_score(y_train, y_predicted_train)))\n",
    "    print('performance over the test set: ' + str(f1_score(y_test, y_predicted)) + '\\n')\n",
    "    print(classification_report(y_test, y_predicted))\n",
    "    \n",
    "    \n",
    "    \n",
    "def XGBCV(LR = 0.1, n_est = 1000, max_d = 5, min_c = 1, gm = 0, colsample = 0.8, subs = 1, lambd = 0, alpha = 0):\n",
    "   \n",
    "    xgb1_model = XGBClassifier( learning_rate=LR, \n",
    "                                            n_estimators=n_est,\n",
    "                                            max_depth=max_d,\n",
    "                                            min_child_weight=min_c,                         \n",
    "                                            gamma=min_c,\n",
    "                                            colsample_bytree=colsample,\n",
    "                                            subsample=subs,\n",
    "                                            objective ='binary:logistic',                   \n",
    "                                            reg_lambda=lambd,\n",
    "                                            reg_alpha=alpha,\n",
    "                                            scale_pos_weight = 1,\n",
    "                                            seed=42)\n",
    "\n",
    "\n",
    "    # CV model\n",
    "    kfold = KFold(n_splits=5, random_state=42, shuffle=True)\n",
    "    results = cross_val_score(xgb1_model, X, y, cv=kfold, scoring=\"f1\")\n",
    "    print(results)\n",
    "    print(\"f1-score: %.2f%% (%.2f%%)\" % (results.mean()*100, results.std()*100))\n",
    "    \n",
    "    \n",
    "    \n",
    "def XGB_tuning (LR = 0.1, n_est = 1000, max_d = 5, min_c = 1, gm = 0, colsample = 0.8, subs = 1,\n",
    "                lambd = 0, alpha = 0, param_test = {'learning_rate':[i/100.0 for i in range(5,20,2)]} ):\n",
    "    \n",
    "    gsearch = GridSearchCV(estimator = XGBClassifier( learning_rate=LR, \n",
    "                                                    n_estimators=n_est,\n",
    "                                                    max_depth=max_d,\n",
    "                                                    min_child_weight=min_c,                         \n",
    "                                                    gamma=min_c,\n",
    "                                                    colsample_bytree=colsample,\n",
    "                                                    subsample = subs,\n",
    "                                                    objective ='binary:logistic',\n",
    "                                                    reg_lambda=lambd,\n",
    "                                                    reg_alpha=alpha,\n",
    "                                                    scale_pos_weight = 1,\n",
    "                                                    seed=42), \n",
    "                            param_grid = param_test, \n",
    "                            scoring='f1',\n",
    "                            n_jobs=4, \n",
    "                            cv=5)\n",
    "\n",
    "\n",
    "    gsearch.fit(X_train, y_train)\n",
    "    return gsearch"
   ]
  },
  {
   "cell_type": "code",
   "execution_count": 54,
   "metadata": {},
   "outputs": [
    {
     "name": "stdout",
     "output_type": "stream",
     "text": [
      "performance over the training set: 0.9918433931484503\n",
      "performance over the test set: 0.7972972972972973\n",
      "\n",
      "              precision    recall  f1-score   support\n",
      "\n",
      "           0       0.98      0.99      0.99       992\n",
      "           1       0.92      0.70      0.80        84\n",
      "\n",
      "    accuracy                           0.97      1076\n",
      "   macro avg       0.95      0.85      0.89      1076\n",
      "weighted avg       0.97      0.97      0.97      1076\n",
      "\n"
     ]
    }
   ],
   "source": [
    "# STEP 1 - First XGB - Highly Overfitted\n",
    "LearningRate = 0.1\n",
    "n_estimators = 1000\n",
    "\n",
    "# Fix Learning Rate and n_estimators\n",
    "XGB(LearningRate, n_estimators)"
   ]
  },
  {
   "cell_type": "code",
   "execution_count": 55,
   "metadata": {},
   "outputs": [
    {
     "name": "stdout",
     "output_type": "stream",
     "text": [
      "[0.76510067 0.72058824 0.78911565 0.69117647 0.73282443]\n",
      "f1-score: 73.98% (3.42%)\n"
     ]
    }
   ],
   "source": [
    "XGBCV(0.1, 1000)"
   ]
  },
  {
   "cell_type": "code",
   "execution_count": 57,
   "metadata": {},
   "outputs": [
    {
     "name": "stdout",
     "output_type": "stream",
     "text": [
      "{'max_depth': 5, 'min_child_weight': 3} 0.7503685564968547\n"
     ]
    }
   ],
   "source": [
    "# STEP 2 - Tuning max_depth and min_child_weight\n",
    "\n",
    "parameters_test = {\n",
    "    'max_depth':range(3,7,2),\n",
    "    'min_child_weight':range(3,7,2)\n",
    "}\n",
    "\n",
    "gsearch2 = XGB_tuning (LR = LearningRate, n_est = n_estimators, param_test=parameters_test)\n",
    "best_max_depth, best_min_child_weight = gsearch2.best_params_['max_depth'], gsearch2.best_params_['min_child_weight']\n",
    "print(gsearch2.best_params_, gsearch2.best_score_)"
   ]
  },
  {
   "cell_type": "code",
   "execution_count": 50,
   "metadata": {},
   "outputs": [
    {
     "name": "stdout",
     "output_type": "stream",
     "text": [
      "{'gamma': 0.3} 0.7483729741474316\n"
     ]
    }
   ],
   "source": [
    "# STEP 3 - Tuning Gamma \n",
    "parameters_test = { \n",
    "    'gamma':[i/10.0 for i in range(0,5)] \n",
    "}\n",
    "\n",
    "gsearch3 = XGB_tuning (LR = LearningRate, n_est = n_estimators, max_d=best_max_depth, min_c= best_min_child_weight,\n",
    "                      param_test=parameters_test)\n",
    "best_gamma = gsearch3.best_params_['gamma']\n",
    "print(gsearch3.best_params_, gsearch3.best_score_)"
   ]
  },
  {
   "cell_type": "markdown",
   "metadata": {},
   "source": [
    "{'gamma': 0.3} 0.7483729741474316\n"
   ]
  },
  {
   "cell_type": "code",
   "execution_count": 51,
   "metadata": {},
   "outputs": [
    {
     "name": "stdout",
     "output_type": "stream",
     "text": [
      "{'colsample_bytree': 0.7, 'subsample': 1.0} 0.7515131438901536\n"
     ]
    }
   ],
   "source": [
    "# STEP 4 - Tuning colsample_bytree and subsaample\n",
    "parameters_test = {\n",
    "    'colsample_bytree':[i/10.0 for i in range(7,11)],\n",
    "    'subsample':[i/10.0 for i in range(7,11)]\n",
    "}\n",
    "\n",
    "gsearch4 = XGB_tuning (LR = LearningRate, n_est = n_estimators, max_d = best_max_depth, min_c = best_min_child_weight,\n",
    "                      gm = best_gamma, param_test=parameters_test)\n",
    "best_colsample_bytree, best_subsample = gsearch4.best_params_['colsample_bytree'], gsearch4.best_params_['subsample']\n",
    "print(gsearch4.best_params_, gsearch4.best_score_)"
   ]
  },
  {
   "cell_type": "code",
   "execution_count": 62,
   "metadata": {},
   "outputs": [
    {
     "name": "stdout",
     "output_type": "stream",
     "text": [
      "{'reg_alpha': 0.1, 'reg_lambda': 0.5} 0.7617422942980404\n"
     ]
    }
   ],
   "source": [
    "# STEP 5 - Tuning Regularization Parameters\n",
    "# Lambda L2 Regularization\n",
    "# Ampha L1 Regularization\n",
    "\n",
    "parameters_test = {\n",
    "    'reg_lambda':[1e-2, 0.1, 0.5, 1, 2, 10],\n",
    "    'reg_alpha':[1e-2, 0.1, 0.5, 1, 2, 10],\n",
    "}\n",
    "\n",
    "gsearch5 = XGB_tuning (LR = LearningRate, n_est = n_estimators, max_d = best_max_depth, \n",
    "                       min_c = best_min_child_weight, gm = best_gamma,  colsample = best_colsample_bytree, \n",
    "                       subs = best_subsample, param_test=parameters_test)\n",
    "\n",
    "best_reg_lambda, best_reg_alpha = gsearch5.best_params_['reg_lambda'], gsearch5.best_params_['reg_alpha']\n",
    "print(gsearch5.best_params_, gsearch5.best_score_)"
   ]
  },
  {
   "cell_type": "code",
   "execution_count": 59,
   "metadata": {},
   "outputs": [
    {
     "name": "stdout",
     "output_type": "stream",
     "text": [
      "{'reg_alpha': 0.1, 'reg_lambda': 0.5} 0.7617422942980404\n"
     ]
    }
   ],
   "source": [
    "# Closer Look\n",
    "parameters_test = {\n",
    "    'reg_lambda':[best_reg_lambda*0.8, best_reg_lambda, best_reg_lambda*1.2, best_reg_lambda*1.5],\n",
    "    'reg_alpha':[best_reg_alpha*0.8, best_reg_alpha, best_reg_alpha*1.2, best_reg_alpha*1.5]\n",
    "}\n",
    "\n",
    "gsearch5 = XGB_tuning (LR = LearningRate, n_est = n_estimators, max_d = best_max_depth, min_c = best_min_child_weight,\n",
    "                       gm = best_gamma,  colsample = best_colsample_bytree, subs = best_subsample, \n",
    "                       param_test=parameters_test)\n",
    "\n",
    "best_reg_lambda, best_red_alpha = gsearch5.best_params_['reg_lambda'], gsearch5.best_params_['reg_alpha']\n",
    "print(gsearch5.best_params_, gsearch5.best_score_)"
   ]
  },
  {
   "cell_type": "code",
   "execution_count": 60,
   "metadata": {},
   "outputs": [
    {
     "name": "stdout",
     "output_type": "stream",
     "text": [
      "{'learning_rate': 0.07} 0.7550717066772693\n"
     ]
    }
   ],
   "source": [
    "# # STEP 6 - Reducing Learning Rate and Adding More Trees\n",
    "n_estimators *= 10\n",
    "parameters_test = {\n",
    "    'learning_rate':[i/100.0 for i in range(2,10)]\n",
    "}\n",
    "\n",
    "gsearch6 = XGB_tuning (LR = LearningRate, n_est = n_estimators, max_d = best_max_depth, min_c = best_min_child_weight,\n",
    "                       gm = best_gamma,  colsample = best_colsample_bytree, subs = best_subsample, \n",
    "                       lambd = best_reg_lambda, alpha = best_reg_alpha, param_test=parameters_test)\n",
    "\n",
    "LearningRate = gsearch6.best_params_['learning_rate']\n",
    "print(gsearch6.best_params_, gsearch6.best_score_)"
   ]
  },
  {
   "cell_type": "code",
   "execution_count": 61,
   "metadata": {},
   "outputs": [
    {
     "name": "stdout",
     "output_type": "stream",
     "text": [
      "[0.76190476 0.71212121 0.78911565 0.73758865 0.72727273]\n",
      "f1-score: 74.56% (2.71%)\n",
      "performance over the training set: 0.8916083916083917\n",
      "performance over the test set: 0.7891156462585033\n",
      "\n",
      "              precision    recall  f1-score   support\n",
      "\n",
      "           0       0.97      0.99      0.98       992\n",
      "           1       0.92      0.69      0.79        84\n",
      "\n",
      "    accuracy                           0.97      1076\n",
      "   macro avg       0.95      0.84      0.89      1076\n",
      "weighted avg       0.97      0.97      0.97      1076\n",
      "\n"
     ]
    }
   ],
   "source": [
    "# Testing new parameters - complete dataset with cross validation\n",
    "XGBCV(LearningRate, n_estimators, best_max_depth, best_min_child_weight, best_gamma, \n",
    "      best_colsample_bytree, best_subsample, best_reg_lambda, best_reg_alpha)\n",
    "\n",
    "# Testing new parameters - testing set (not influenced by tuning)\n",
    "XGB(LearningRate, n_estimators, best_max_depth, best_min_child_weight, best_gamma, \n",
    "      best_colsample_bytree, best_subsample, best_reg_lambda, best_reg_alpha)"
   ]
  },
  {
   "cell_type": "markdown",
   "metadata": {},
   "source": [
    "## Conclusion\n",
    "\n",
    "The classification study with the above methods showed us how the preparation of data and the correct use of good algorithms can be useful in such tasks. We tuned the hyperparameters, but one can spot not a very significant improvement for the test validation. This may be due to the amount of information present in the dataset and the small sample of one class with respect to another. \n",
    "\n",
    "The balance of classes using the technique of over and under sampling allowed us to obtain better results. The XGBoost obtained a good performance using the data set raw , as well as the tpot. Showing the possibility and flexibility of such approachs with varied data.\n",
    "\n",
    "Both F1 Score and AUC-OC Score were in the neighborhood of 0.8\n",
    "\n"
   ]
  }
 ],
 "metadata": {
  "kernelspec": {
   "display_name": "Python 3",
   "language": "python",
   "name": "python3"
  },
  "language_info": {
   "codemirror_mode": {
    "name": "ipython",
    "version": 3
   },
   "file_extension": ".py",
   "mimetype": "text/x-python",
   "name": "python",
   "nbconvert_exporter": "python",
   "pygments_lexer": "ipython3",
   "version": "3.7.5"
  }
 },
 "nbformat": 4,
 "nbformat_minor": 2
}
